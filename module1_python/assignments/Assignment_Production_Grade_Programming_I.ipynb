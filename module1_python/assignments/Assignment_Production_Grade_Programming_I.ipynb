{
  "nbformat": 4,
  "nbformat_minor": 0,
  "metadata": {
    "kernelspec": {
      "display_name": "Python 3",
      "language": "python",
      "name": "python3"
    },
    "language_info": {
      "codemirror_mode": {
        "name": "ipython",
        "version": 3
      },
      "file_extension": ".py",
      "mimetype": "text/x-python",
      "name": "python",
      "nbconvert_exporter": "python",
      "pygments_lexer": "ipython3",
      "version": "3.7.4"
    },
    "colab": {
      "name": "Assignment  - Production Grade Programming I.ipynb",
      "provenance": [],
      "collapsed_sections": [],
      "include_colab_link": true
    }
  },
  "cells": [
    {
      "cell_type": "markdown",
      "metadata": {
        "id": "view-in-github",
        "colab_type": "text"
      },
      "source": [
        "<a href=\"https://colab.research.google.com/github/ishangrover-9654/python-training/blob/main/module1_python/assignments/Assignment_Production_Grade_Programming_I.ipynb\" target=\"_parent\"><img src=\"https://colab.research.google.com/assets/colab-badge.svg\" alt=\"Open In Colab\"/></a>"
      ]
    },
    {
      "cell_type": "markdown",
      "metadata": {
        "id": "8WbUJEVzs8Bx"
      },
      "source": [
        "## <u>While doing this assignment only use those concepts which have been taught till now</u>"
      ]
    },
    {
      "cell_type": "markdown",
      "metadata": {
        "id": "77zLnpaNvNSp"
      },
      "source": [
        "# <u> Problem 1</u>\n",
        "\n",
        "### Create a class <code>Cylinder</code> which takes two attributes <code>radius</code> and <code>height</code>.\n",
        "\n",
        "### Create the following methods in this class:\n",
        "\n",
        "* ### method <code>volume()</code> which calculates the volume of the cyinder which is defined as $V  = \\pi r^2 h$\n",
        "\n",
        "* ### method <code>surface_area()</code> which calculates the area of the cyinder which is defined as $S  = 2\\pi r h$. Assume this is an open cylinder\n"
      ]
    },
    {
      "cell_type": "code",
      "metadata": {
        "id": "-cWkCZ5OzX0G"
      },
      "source": [
        "# Write your code below. Take pi as 3.14\n",
        "class Cylinder:\n",
        "  \n",
        "\n",
        "  def __init__(self, h=1, r=1):\n",
        "    self.h = h\n",
        "    self.r = r\n",
        "    self.pie = 3.14\n",
        "  \n",
        "  def volume(self):\n",
        "    return self.pie * self.r * self.r * self.h\n",
        "\n",
        "  def surface_area(self):\n",
        "    return 2 * self.pie * self.r * self.h\n",
        "    "
      ],
      "execution_count": 9,
      "outputs": []
    },
    {
      "cell_type": "code",
      "metadata": {
        "id": "tgS3mhN-18b_",
        "outputId": "b0ba76cc-3833-4957-90d4-46805682b876",
        "colab": {
          "base_uri": "https://localhost:8080/"
        }
      },
      "source": [
        "# Check for sample inputs\n",
        "\n",
        "cy = Cylinder(2,9)\n",
        "cy.h\n",
        "print(cy.volume())\n",
        "\n",
        "print(cy.surface_area())\n",
        "\n",
        "\n",
        "\n",
        "\n"
      ],
      "execution_count": 15,
      "outputs": [
        {
          "output_type": "stream",
          "text": [
            "508.68\n",
            "113.04\n"
          ],
          "name": "stdout"
        }
      ]
    },
    {
      "cell_type": "markdown",
      "metadata": {
        "id": "KjPWYK0Rs8By"
      },
      "source": [
        "## <u>Problem 2</u>\n",
        "\n",
        "### You started your own money wallet where your customers can create their accounts and they can either deposit or withdraw money from this wallet.\n",
        "\n",
        "### Write a Python class <code>BankAccount</code> which takes the balance as an attribute. You can initialize the balance with 0 because any new account will have 0 rupees in their wallet. Next write two methods for your class :\n",
        "\n",
        "* #### <code>withdraw()</code> method which takes the amount to be withdrawn as an argument and returns the balance after the withdrawal\n",
        "\n",
        "* #### <code>deposit()</code> method which takes the amount to be deposited as an argument and returns the balance after the deposit.\n",
        "\n",
        "### Keep in mind that if the balance to be withdrawn exceeds the current balance, it should display a message that \"Not enough balance in your account\"\n"
      ]
    },
    {
      "cell_type": "code",
      "metadata": {
        "id": "RxVZTrenzfHC"
      },
      "source": [
        "# Write your BankAccount class below \n",
        "\n",
        "class BankAccount:\n",
        "\n",
        "  def __init__(self, act_name):\n",
        "    self.bal = 0\n",
        "    self.act_name = act_name\n",
        "\n",
        "  def withdraw(self, amount):\n",
        "    if amount <= self.bal:\n",
        "      self.bal = self.bal - amount\n",
        "      self.checkBal()\n",
        "      return self.bal\n",
        "    else:\n",
        "      print(f'Not Sufficient Balance, current balance is {self.bal}')\n",
        "    \n",
        "\n",
        "  def deposit(self, amount):\n",
        "    self.bal = self.bal + amount\n",
        "    self.checkBal()\n",
        "    return self.bal\n",
        "\n",
        "  def checkBal(self):\n",
        "    print(f'Current Balance for customer {self.act_name} is {self.bal}')\n"
      ],
      "execution_count": 34,
      "outputs": []
    },
    {
      "cell_type": "code",
      "metadata": {
        "id": "N1Yhpkiws8B3"
      },
      "source": [
        "# Create two instances of this class for two customers\n",
        "cus1 = BankAccount(\"Ishan\")\n",
        "cus2= BankAccount(\"Vishal\")\n",
        "\n"
      ],
      "execution_count": 35,
      "outputs": []
    },
    {
      "cell_type": "markdown",
      "metadata": {
        "id": "mSTxPcO3fWeX"
      },
      "source": [
        "### Next add some amount and withdraw some another amount for both the customers."
      ]
    },
    {
      "cell_type": "code",
      "metadata": {
        "id": "KpMdlB5Fs8B8",
        "outputId": "94525d82-d663-48b9-da61-07982d0e03db",
        "colab": {
          "base_uri": "https://localhost:8080/"
        }
      },
      "source": [
        "# Deposit some amount and withdrawing some amount from the two accounts and check if your method works fine\n",
        "\n",
        "\n",
        "\n",
        "\n",
        "cus1.deposit(200)\n",
        "cus1.withdraw(10)\n",
        "\n",
        "cus2.deposit(300)\n",
        "cus2.withdraw(210)\n"
      ],
      "execution_count": 37,
      "outputs": [
        {
          "output_type": "stream",
          "text": [
            "Current Balance for customer Ishan is 400\n",
            "Current Balance for customer Ishan is 390\n",
            "Current Balance for customer Vishal is 390\n",
            "Current Balance for customer Vishal is 180\n"
          ],
          "name": "stdout"
        },
        {
          "output_type": "execute_result",
          "data": {
            "text/plain": [
              "180"
            ]
          },
          "metadata": {
            "tags": []
          },
          "execution_count": 37
        }
      ]
    },
    {
      "cell_type": "markdown",
      "metadata": {
        "id": "5qd8g8UUs8CM"
      },
      "source": [
        "## <u>Problem 3 </u>\n",
        "\n",
        "### Create a class <code>Time </code> which takes two inputs hours and minutes to instantiate.\n",
        "*  #### Construct a method <code>DisplayTime()</code> which displays the time in AM/PM formats. For example if the input is 14 hours and 45 mins, then this method will print \"The time is 2:45 PM\". If the inputted hours exceeds 23 then print the message \"The input hours should be less than 24\" and if the inputted minutes exceeds 59 then print the message \"The input minutes should be less than 60.\" Also if the input is 12 hours 30 minutes, then the displayed time would be 12:30 PM\n",
        "* #### Construct a method <code>DisplayRatio()</code> which should display the ratio of minutes to hours. For example, (8 hours and  16 mins) should display 2. Use <code>try</code>, <code>except</code> block to account for ZeroDivisionError."
      ]
    },
    {
      "cell_type": "code",
      "metadata": {
        "id": "FBJy9Sq_s8CN"
      },
      "source": [
        "class Time:\n",
        "\n",
        "  def __init__(self, hrs, mins) :\n",
        "    self.hrs = hrs\n",
        "    self.mins = mins\n",
        "    print(f'Get time for {hrs}hrs and {mins}mins')\n",
        "\n",
        "  def displayTime(self):\n",
        "    if self.mins > 59:\n",
        "      return 'Mins cannot be greater than 59'\n",
        "      \n",
        "    if self.hrs > 23:\n",
        "      return 'Hrs cannot be greater than 23'\n",
        "      \n",
        "    if self.hrs > 12:\n",
        "      return str(self.hrs % 12) + ':' + str(self.mins)\n",
        "    \n",
        "    return str(self.hrs) + ':' + str(self.mins)\n",
        "\n",
        "  def displayRatio(self):\n",
        "    try:\n",
        "      ratio = self.mins // self.hrs\n",
        "    except Exception as ex:\n",
        "      print(ex)\n",
        "    else:\n",
        "      return ratio\n",
        "\n",
        "\n",
        "\n",
        "\n",
        "\n",
        "\n",
        "\n",
        "\n",
        "\n",
        "\n",
        "\n",
        "\n",
        "\n",
        "\n",
        "  "
      ],
      "execution_count": 28,
      "outputs": []
    },
    {
      "cell_type": "code",
      "metadata": {
        "id": "zywXa51d6Eev",
        "outputId": "8656cdf1-5bb9-4c94-9816-2c06c0dda715",
        "colab": {
          "base_uri": "https://localhost:8080/"
        }
      },
      "source": [
        "# Check for few sample inputs of hours and mins\n",
        "hour_min_list = [(23,45), (34,50), (12,34), (14,67),(19,20), (2,15), (0, 10)]\n",
        "\n",
        "# Using a for loop display the corresponding 12 hour time format for the above hour_min_list\n",
        "for (hour, min) in hour_min_list :\n",
        "  t = Time(hour, min)\n",
        "  print(t.displayTime())\n",
        "\n",
        "\n",
        "\n",
        "# Also display the corresponding ratios for the above list\n",
        "for (hour, min) in hour_min_list :\n",
        "  t = Time(hour, min)\n",
        "  print(f'ratio : {t.displayRatio()}')\n",
        "\n"
      ],
      "execution_count": 30,
      "outputs": [
        {
          "output_type": "stream",
          "text": [
            "Get time for 23hrs and 45mins\n",
            "11:45\n",
            "Get time for 34hrs and 50mins\n",
            "Hrs cannot be greater than 23\n",
            "Get time for 12hrs and 34mins\n",
            "12:34\n",
            "Get time for 14hrs and 67mins\n",
            "Mins cannot be greater than 59\n",
            "Get time for 19hrs and 20mins\n",
            "7:20\n",
            "Get time for 2hrs and 15mins\n",
            "2:15\n",
            "Get time for 0hrs and 10mins\n",
            "0:10\n",
            "Get time for 23hrs and 45mins\n",
            "ratio : 1\n",
            "Get time for 34hrs and 50mins\n",
            "ratio : 1\n",
            "Get time for 12hrs and 34mins\n",
            "ratio : 2\n",
            "Get time for 14hrs and 67mins\n",
            "ratio : 4\n",
            "Get time for 19hrs and 20mins\n",
            "ratio : 1\n",
            "Get time for 2hrs and 15mins\n",
            "ratio : 7\n",
            "Get time for 0hrs and 10mins\n",
            "integer division or modulo by zero\n",
            "ratio : None\n"
          ],
          "name": "stdout"
        }
      ]
    },
    {
      "cell_type": "code",
      "metadata": {
        "id": "mgcu1_SAjAqF"
      },
      "source": [
        ""
      ],
      "execution_count": null,
      "outputs": []
    }
  ]
}